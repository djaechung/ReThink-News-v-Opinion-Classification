{
 "cells": [
  {
   "cell_type": "code",
   "execution_count": 1,
   "id": "55f02ff5",
   "metadata": {},
   "outputs": [
    {
     "name": "stderr",
     "output_type": "stream",
     "text": [
      "2021-12-06 08:58:17.643651: W tensorflow/stream_executor/platform/default/dso_loader.cc:64] Could not load dynamic library 'libcudart.so.11.0'; dlerror: libcudart.so.11.0: cannot open shared object file: No such file or directory\n",
      "2021-12-06 08:58:17.643690: I tensorflow/stream_executor/cuda/cudart_stub.cc:29] Ignore above cudart dlerror if you do not have a GPU set up on your machine.\n"
     ]
    }
   ],
   "source": [
    "import numpy as np\n",
    "import pandas as pd\n",
    "import matplotlib.pyplot as plt\n",
    "import seaborn as sns\n",
    "import regex as re\n",
    "import collections\n",
    "from sklearn import svm\n",
    "from sklearn.metrics import recall_score\n",
    "from sklearn.metrics import confusion_matrix\n",
    "from sklearn.metrics import plot_confusion_matrix\n",
    "import spacy\n",
    "nlp = spacy.load(\"en_core_web_sm\")"
   ]
  },
  {
   "cell_type": "markdown",
   "id": "8716b177",
   "metadata": {},
   "source": [
    "# Loading and Preparing Data"
   ]
  },
  {
   "cell_type": "code",
   "execution_count": 2,
   "id": "b64798be",
   "metadata": {},
   "outputs": [],
   "source": [
    "# Loading cleaned, labelled article data as a Pandas dataframe\n",
    "data = pd.read_excel(\"Labelled_VR_data_Oct2020_Jan2021_wfulltext.xlsx\")"
   ]
  },
  {
   "cell_type": "code",
   "execution_count": 3,
   "id": "c8404b7f",
   "metadata": {},
   "outputs": [],
   "source": [
    "# Converting article status strings to article status indicators.\n",
    "# 1 = Opinion, 0 = News\n",
    "def indicator(art_status):\n",
    "    if art_status == \"News\":\n",
    "        return 0\n",
    "    elif art_status == \"Opinion\":\n",
    "        return 1\n",
    "    else:\n",
    "        print(\"Warning: art_status is neither news nor opinion\")\n",
    "        return -1\n",
    "    \n",
    "# Applying article indicator conversion function to the dataframe    \n",
    "data[\"Article Status Int\"] = data[\"Article Status\"].apply(indicator)"
   ]
  },
  {
   "cell_type": "code",
   "execution_count": 4,
   "id": "03c221f9",
   "metadata": {},
   "outputs": [],
   "source": [
    "# Spltting the article data by news and opinion label\n",
    "news = data[data[\"Article Status\"] == \"News\"]\n",
    "opinion = data[data[\"Article Status\"] == \"Opinion\"]"
   ]
  },
  {
   "cell_type": "code",
   "execution_count": 5,
   "id": "872ad2c4",
   "metadata": {},
   "outputs": [],
   "source": [
    "# Creating an array of news fulltext strings and another of opinion fulltext strings\n",
    "news_fulltext_arr = np.array(news[\"Full Text\"])\n",
    "opinion_fulltext_arr = np.array(opinion[\"Full Text\"])"
   ]
  },
  {
   "cell_type": "markdown",
   "id": "53c7b878",
   "metadata": {},
   "source": [
    "# SVM Setup"
   ]
  },
  {
   "cell_type": "markdown",
   "id": "d4231f1d",
   "metadata": {},
   "source": [
    "GOAL: Just establish an initial SVM classifier using the linguistic features from the Italian newspaper article and get a baseline f1 score to evaluate initial model quality. Hopefully the code can be a useful reference for future work."
   ]
  },
  {
   "cell_type": "markdown",
   "id": "723fd143",
   "metadata": {},
   "source": [
    "## Setting Up Shiny's Feature Extraction Functions"
   ]
  },
  {
   "cell_type": "code",
   "execution_count": 6,
   "id": "2d03ee39",
   "metadata": {},
   "outputs": [],
   "source": [
    "#linguistic features —  SENTLENGTH and TOKENLENGTH\n",
    "#hypothesis being that opinion texts, such as editorials, tend to feature longer sentences \n",
    "#art_str is the article as a String\n",
    "\n",
    "def sent_len(art_str):\n",
    "    \"\"\"\n",
    "    Returns the average sentence length measured in tokens (inverted).\n",
    "    \"\"\"\n",
    "    dots = [p for p in range(len(art_str)) if art_str[p] == \".\"]\n",
    "    sentences = [dots[i+1] - dots[i] for i in range(len(dots) - 1)]\n",
    "    return (1/np.average(sentences)) if sentences else (1/len(art_str))\n",
    "    \n",
    "def token_len(art_str):\n",
    "    \"\"\"\n",
    "    Returns the average token length measured in characters (inverted).\n",
    "    \"\"\"\n",
    "    wordList = art_str.split()\n",
    "    lengths = [len(w) for w in wordList]\n",
    "    return 1/(np.average(lengths)), np.sum(lengths)"
   ]
  },
  {
   "cell_type": "code",
   "execution_count": 7,
   "id": "309304b1",
   "metadata": {},
   "outputs": [],
   "source": [
    "#linguistic features — NEGATION and NEGATIONSUFFIX \n",
    "#NEGATION — OPINION\n",
    "#NEGATIONSUFFIX — NEWS\n",
    "#hypothesis being that opinion texts tend to have more negations \n",
    "#n't is used commonly in citations or quotes\n",
    "\n",
    "negations = [\"no\", \"not\", \"none\", \"no one\", \"nobody\", \"neither\", \"nowhere\", \"nothing\", \"never\"]\n",
    "neg_suffix = \"n\\'t\""
   ]
  },
  {
   "cell_type": "code",
   "execution_count": 8,
   "id": "5ba41481",
   "metadata": {},
   "outputs": [],
   "source": [
    "def negations_count(art_str):\n",
    "    wordList = art_str.lower().split()\n",
    "    total, suffix_total = 0, 0\n",
    "    for w in wordList:\n",
    "        if w in negations:\n",
    "            total += 1\n",
    "        if w[-3:] == neg_suffix:\n",
    "            suffix_total += 1\n",
    "    return total, suffix_total\n",
    "    "
   ]
  },
  {
   "cell_type": "code",
   "execution_count": 9,
   "id": "7f6d4b16",
   "metadata": {},
   "outputs": [],
   "source": [
    "#linguistic features — QUESTIONS, EXCLAMATIONS, COMMAS, and SEMICOLONS\n",
    "#hypothesis being that opinion texts tend to use more exclamations and (rhetorical) questions\n",
    "#exclamation marks, question marks, semicolons, and commas\n",
    "#QUESTIONS, EXCLAMATIONS, COMMAS, SEMICOLONS — OPINION\n",
    "#COMMAS — NEWS\n",
    " \n",
    "def punctuation_count(art_str):\n",
    "    \"\"\"\n",
    "    Determines the numbers of exclamation marks, question marks, semicolons, and commas,\n",
    "    as compared to other punctuation symbols. \n",
    "    \"\"\"\n",
    "    count = [0] * 5\n",
    "    for i in range(len(art_str)):\n",
    "        if art_str[i] == \"?\":\n",
    "            count[0] += 1\n",
    "        elif art_str[i] == \"!\":\n",
    "            count[1] += 1\n",
    "        elif art_str[i] == \",\":\n",
    "            count[2] += 1\n",
    "        elif art_str[i] == \";\":\n",
    "            count[3] += 1\n",
    "        elif art_str[i] == \".\":\n",
    "            count[4] += 1\n",
    "    return count"
   ]
  },
  {
   "cell_type": "code",
   "execution_count": 10,
   "id": "88e8f08f",
   "metadata": {},
   "outputs": [],
   "source": [
    "#linguistic features — CONNECTIVES (Temporal, Casual, Contrastive, Expansive)\n",
    "#hypothesis being that there are more connectives in news (aftermath of study)\n",
    "#casual, expansive, temporal, contrastive — NEWS \n",
    "\n",
    "\n",
    "casual = ['after', 'because', 'insofar as', 'by', 'in turn', 'for', 'once', 'as a result', 'hence', 'in the end', \n",
    "          'by then', 'but', 'subsequently', 'as', 'therefore', 'unless', 'thus', 'accordingly', 'so that', 'since', \n",
    "          'consequently', 'indeed', 'ultimately', 'then', 'even though', 'now that', 'finally”,”hence”,”if', 'although', \n",
    "          'so', 'thereby', 'otherwise', 'due to', 'and', 'when']\n",
    "\n",
    "contrastive = ['nor', 'in fact', 'despite', 'equally', 'by comparison', 'contrast', 'by contrast', 'but', 'separately', \n",
    "               'whereas', 'rather', 'meanwhile', 'also', 'even so', 'and', 'though', 'if', 'unlike', 'however', 'or', 'then', \n",
    "               'nevertheless', 'yet', 'even though', 'conversely', 'nonetheless', 'on the contrary', 'in contrast', 'while', \n",
    "               'likewise', 'instead', 'although', 'on the other hand', 'still', 'similarly', 'otherwise', 'actually', \n",
    "               'alternatively', 'on the one hand', 'when']\n",
    "\n",
    "temporal = [\"before\", \"after\", \"next\", \"shortly\", \"afterwards\", \"eventually\", \"firstly\", \"secondly\", \"previously\", \"meanwhile\",\n",
    "            \"finally\", \"while\", \"then\", \"earlier\", \"when\", \"initially\", \"soon\", \"suddenly\", \"until\", \"once\", \"recently\", \"already\", \"as\"]\n",
    "\n",
    "expansive = [\"also\", \"and\", \"as well as\", \"besides\", \"in addition\", \"furthermore\", \"in fact\", \"moreover\", \"additionally\",\n",
    "             \"too\", \"further\", \"or\", \"neither\", \"nor\", \"either\"]"
   ]
  },
  {
   "cell_type": "code",
   "execution_count": 11,
   "id": "bc048222",
   "metadata": {},
   "outputs": [],
   "source": [
    "def connective_count(art_str):\n",
    "    # casual, contrastive, temporal, expansive\n",
    "    connectives = [0] * 4\n",
    "    wordList = art_str.lower().split()\n",
    "    for w in wordList:\n",
    "        if w in casual:\n",
    "            connectives[0] += 1\n",
    "        elif w in contrastive:\n",
    "            connectives[1] += 1\n",
    "        elif w in temporal:\n",
    "            connectives[2] += 1\n",
    "        elif w in expansive:\n",
    "            connectives[3] += 1\n",
    "    return connectives"
   ]
  },
  {
   "cell_type": "code",
   "execution_count": 12,
   "id": "576e4e45",
   "metadata": {},
   "outputs": [],
   "source": [
    "#linguistic features — PRONOUNS outside of quotes — OPINION\n",
    "#study used first and second person only\n",
    "\n",
    "\n",
    "first_person = ['I', 'we', 'our', 'ourselves', 'us', 'me', 'my', 'mine', 'myself']\n",
    "second_person = ['you', 'yours', 'your', 'yourself', 'yourselves']\n",
    "third_person = ['he', 'him', 'his', 'himself', 'she', 'her', 'hers', 'herself', \n",
    "                'it', 'its', 'itself', 'they', 'them', 'their', 'theirs', 'themselves']"
   ]
  },
  {
   "cell_type": "code",
   "execution_count": 13,
   "id": "f1f3e4e8",
   "metadata": {},
   "outputs": [],
   "source": [
    "def pronouns_count(art_str):\n",
    "    wordList = re.sub(\"[^\\w]\", \" \",  art_str).split()\n",
    "    pronoun_count = [0] * 4\n",
    "    for w in wordList:\n",
    "        \"\"\"0: 1st person\n",
    "           1: 2nd person\n",
    "           2: 3rd person\n",
    "           3: 1st and 2nd person\"\"\"\n",
    "        w_lower = w.lower()\n",
    "        if w_lower in first_person:\n",
    "            pronoun_count[0] += 1\n",
    "            pronoun_count[3] += 1\n",
    "        elif w_lower in second_person:\n",
    "            pronoun_count[1] += 1\n",
    "            pronoun_count[3] += 1\n",
    "        elif w_lower in third_person:\n",
    "            pronoun_count[2] += 1\n",
    "    return pronoun_count"
   ]
  },
  {
   "cell_type": "code",
   "execution_count": 14,
   "id": "fe203803",
   "metadata": {},
   "outputs": [],
   "source": [
    "#linguistic features — CITATIONS and CITATIONLENGTH — OPINION\n",
    "#hypothesis being that higher frequencies of citations are more indicative of opinion (aftermath of study)\n",
    "\n",
    "def find_citation(art_str):\n",
    "    \"\"\"\n",
    "    Returns the citation length and frequency in the article. \n",
    "    \"\"\"\n",
    "    quotes = re.findall(r'\"(.*?)\"', art_str)\n",
    "    within_quotes = collections.Counter(\" \".join(quotes).lower().split())\n",
    "    num_citations = len(quotes)\n",
    "    avg_citation_len = np.average([len(q) for q in quotes])\n",
    "    return [num_citations, avg_citation_len]"
   ]
  },
  {
   "cell_type": "code",
   "execution_count": 15,
   "id": "2bb43c09",
   "metadata": {},
   "outputs": [],
   "source": [
    "#linguistic features — MODALS — OPINION\n",
    "#hypothesis being that modal verbs are expected to be a better indicator for opinion \n",
    "#according to study, is less potent but do correspond to the genre as expected\n",
    "\n",
    "modals = [\"can\", \"must\", \"may\", \"could\", \"might\", \"should\", \"would\", \"shall\", \"ought to\"]"
   ]
  },
  {
   "cell_type": "code",
   "execution_count": 16,
   "id": "e4644ace",
   "metadata": {},
   "outputs": [],
   "source": [
    "#linguistic features — VERBSofSAYING (VoS) — NEWS\n",
    "#hypothesis that vos more common in news\n",
    "\n",
    "vos = ['acknowledge','affirm','allege','announce','assert','claim','comment','contend','declare','disclose',\n",
    "       'exclaim','explain','insist','mention','notify','observe','proclaim','propose','report','reveal','said','say','state',\n",
    "       'stipulate','tell','write']"
   ]
  },
  {
   "cell_type": "code",
   "execution_count": 17,
   "id": "dc6cb6b4",
   "metadata": {},
   "outputs": [],
   "source": [
    "#linguistic features — FUTURE_WILL — NEWS\n",
    "#frequency of the verb, \"will\" outside of quotes\n",
    "\n",
    "future_will = \"will\""
   ]
  },
  {
   "cell_type": "code",
   "execution_count": 18,
   "id": "a17e3cf4",
   "metadata": {},
   "outputs": [],
   "source": [
    "#linguistic features — DIGITS — OPINION\n",
    "#hypothesis being that digits are more frequent in opinion than news (aftermath of study)\n",
    "\n",
    "def count_digits(art_str):\n",
    "    \"\"\"\n",
    "    Returns the frequency of digits in a text. \n",
    "    \"\"\"\n",
    "    return len(re.findall(\"[\\d]+\",art_str))/len(art_str)"
   ]
  },
  {
   "cell_type": "code",
   "execution_count": 19,
   "id": "de73a049",
   "metadata": {},
   "outputs": [],
   "source": [
    "finite_verb_tags = [\"VBD\", \"VBP\", \"VBZ\", \"MD\", \"BES\", \"HVS\"]"
   ]
  },
  {
   "cell_type": "code",
   "execution_count": 20,
   "id": "2e266970",
   "metadata": {},
   "outputs": [],
   "source": [
    "#complexity and finite verbs\n",
    "\n",
    "def get_finite_verbs(art_str):\n",
    "    finite_verb_tags = [\"VBD\", \"VBP\", \"VBZ\", \"MD\", \"BES\", \"HVS\"]\n",
    "    return [w for w in nlp(art_str) if w.tag_ in finite_verb_tags]\n",
    "\n",
    "def calc_complexity(art_str):\n",
    "    num_finite_verbs = len(get_finite_verbs(art_str))\n",
    "    complexity = num_finite_verbs / token_len(art_str)[1]\n",
    "    return complexity"
   ]
  },
  {
   "cell_type": "code",
   "execution_count": 21,
   "id": "9c6010ad",
   "metadata": {},
   "outputs": [],
   "source": [
    "#present and past tense frequency\n",
    "\n",
    "def present_tense_freq(finite_verbs):\n",
    "    present_verbs = [w for w in finite_verbs if w.tag_ == \"VBZ\" or w.tag_ == \"VBP\"]\n",
    "    present_tense_frequency = len(present_verbs) / len(finite_verbs)\n",
    "    return present_tense_frequency\n",
    "\n",
    "def past_tense_freq(finite_verbs):\n",
    "    past_verbs = [w for w in finite_verbs if w.tag_ == \"VBD\"]\n",
    "    past_tense_frequency = len(past_verbs) / len(finite_verbs)\n",
    "    return past_tense_frequency"
   ]
  },
  {
   "cell_type": "code",
   "execution_count": 22,
   "id": "bff5bf4e",
   "metadata": {},
   "outputs": [],
   "source": [
    "#interjection frequency\n",
    "\n",
    "def get_interjections(art_str):\n",
    "    interjections = [w for w in nlp(art_str) if w.pos_ == \"INTJ\"]\n",
    "    intj_freq = len(interjections) / token_len(art_str)[1]\n",
    "    return intj_freq"
   ]
  },
  {
   "cell_type": "code",
   "execution_count": 23,
   "id": "4226e5b5",
   "metadata": {},
   "outputs": [
    {
     "name": "stdout",
     "output_type": "stream",
     "text": [
      "6778\n"
     ]
    }
   ],
   "source": [
    "# Subjectivity Dictionary\n",
    "import json\n",
    "mpqa_dict = json.load(open(\"mpqa_dict.json\", \"r\"))\n",
    "\n",
    "print(len(mpqa_dict))"
   ]
  },
  {
   "cell_type": "code",
   "execution_count": 24,
   "id": "3735de35",
   "metadata": {},
   "outputs": [],
   "source": [
    "#linguistic features — SENTIMENT — OPINION\n",
    "#hypothesis being that opinion texts employ a less neutral language\n",
    "#calculated in study using MPQA Subjectivity Clues Lexicon \n",
    "\n",
    "def get_sentiment(art_str, mpqa_dict):\n",
    "    subjectivity, adjectives = 0, 0\n",
    "    words = art_str.lower().split()\n",
    "    \n",
    "    for w in words:\n",
    "        if w in mpqa_dict:  \n",
    "            if mpqa_dict[w]['pos'] == 'adj':\n",
    "                adjectives += 1\n",
    "            if mpqa_dict[w]['subj'] == 'weaksubj':\n",
    "                subjectivity += 0.1\n",
    "            if mpqa_dict[w]['subj'] == 'strongsubj':\n",
    "                subjectivity += 1\n",
    "          \n",
    "    num_words = len(words)\n",
    "    sentiment = subjectivity / num_words\n",
    "    adj_ratio = adjectives / num_words\n",
    "    \n",
    "    return subjectivity, sentiment, adjectives, adj_ratio"
   ]
  },
  {
   "cell_type": "code",
   "execution_count": 25,
   "id": "52cc3cfc",
   "metadata": {},
   "outputs": [],
   "source": [
    "quote_pattern = \"'[^']*'\""
   ]
  },
  {
   "cell_type": "markdown",
   "id": "112e987e",
   "metadata": {},
   "source": [
    "## Adding in David's Features"
   ]
  },
  {
   "cell_type": "code",
   "execution_count": 26,
   "id": "57434efb",
   "metadata": {},
   "outputs": [],
   "source": [
    "# Cleaning string-based columns by filling na values with empty strings\n",
    "data[\"Full Text\"].fillna(\"\");\n",
    "data[\"Journalist Name\"].fillna(\"\");\n",
    "data[\"Headline\"].fillna(\"\");"
   ]
  },
  {
   "cell_type": "code",
   "execution_count": 27,
   "id": "3af65b7a",
   "metadata": {},
   "outputs": [],
   "source": [
    "#Headline length feature\n",
    "#On average, news headlines are slightly longer than opinion headlines\n",
    "#df.groupby([\"news_opinion\"])[\"headline_length\"].mean()\n",
    "data[\"headline_length_feature\"] = data[\"Headline\"].str.len()\n",
    "\n",
    "#Author count feature\n",
    "#News articles tend to have slightly more authors\n",
    "#df.groupby([\"news_opinion\",\"author_count\"]).size()\n",
    "data[\"author_count_feature\"] = data[\"Cleaned Author\"].str.count(\", \") + 1"
   ]
  },
  {
   "cell_type": "code",
   "execution_count": 28,
   "id": "72b755d5",
   "metadata": {},
   "outputs": [],
   "source": [
    "from sklearn.preprocessing import MinMaxScaler\n",
    "scaler = MinMaxScaler()\n",
    "a = data[\"Headline\"].str.len()\n",
    "b = data[\"Cleaned Author\"].str.count(\", \") + 1\n",
    "zipped = list(zip(a,b))\n",
    "fitted = scaler.fit(zipped)\n",
    "arr = scaler.transform(zipped)\n",
    "t = zip(*arr)\n",
    "new = list(t)\n",
    "data['minmax_length'] = new[0]\n",
    "data['minmax_author'] = new[1]"
   ]
  },
  {
   "cell_type": "code",
   "execution_count": 29,
   "id": "050f68f1",
   "metadata": {},
   "outputs": [],
   "source": [
    "data['minmax_length'] = data['minmax_length'].fillna(0);\n",
    "data['minmax_author'] = data['minmax_author'].fillna(0);"
   ]
  },
  {
   "cell_type": "code",
   "execution_count": 30,
   "id": "179b03e3",
   "metadata": {
    "scrolled": false
   },
   "outputs": [],
   "source": [
    "m1 = max(data[\"headline_length_feature\"])\n",
    "normalized1 = data[\"headline_length_feature\"]/m1\n",
    "data['normalized_length'] = normalized1\n",
    "m2 = max(data[\"author_count_feature\"])\n",
    "normalized2 = data[\"author_count_feature\"]/m2\n",
    "data['normalized_author_count'] = normalized2"
   ]
  },
  {
   "cell_type": "code",
   "execution_count": 31,
   "id": "609ce905",
   "metadata": {},
   "outputs": [],
   "source": [
    "data['normalized_length'] = data['normalized_length'].fillna(0);\n",
    "data['normalized_author_count'] = data['normalized_author_count'].fillna(0);"
   ]
  },
  {
   "cell_type": "markdown",
   "id": "2b6748b7",
   "metadata": {},
   "source": [
    "## Total Feature Extraction Function"
   ]
  },
  {
   "cell_type": "code",
   "execution_count": 32,
   "id": "814ddaa9",
   "metadata": {},
   "outputs": [],
   "source": [
    "# Modified version of Shiny's feature extraction function with David's features added, \n",
    "# plus some runtime optimizations\n",
    "\n",
    "def get_all_featuresf(record, df):\n",
    "    \n",
    "    # Features with no for loops\n",
    "    art_str = record[\"Full Text\"]\n",
    "    minmax_length = record[\"minmax_length\"]\n",
    "    minmax_author = record[\"minmax_author\"]\n",
    "    normalized_length = record[\"normalized_length\"]\n",
    "    normalized_author_count = record[\"normalized_author_count\"]\n",
    "    \n",
    "    counter = collections.Counter(art_str.lower().split())\n",
    "    num_words = sum(list(counter.values()))\n",
    "    \n",
    "    quotes = re.findall(r'\"(.*?)\"', art_str)\n",
    "    within_quotes = collections.Counter(\" \".join(quotes).lower().split())\n",
    "    num_citations = len(quotes)\n",
    "    avg_citation_len = np.average([len(q) for q in quotes]) if quotes else 0\n",
    "    sent_length = sent_len(art_str)\n",
    "    token_length, num_tokens = token_len(art_str) \n",
    "    \n",
    "    # Things we need to count\n",
    "    num_modals, num_vos = 0, 0\n",
    "    num_casual, num_temporal, num_contrastive, num_expansive = 0, 0, 0, 0\n",
    "    first_p, second_p, third_p, first_second_p = 0, 0, 0, 0\n",
    "    num_future = counter.get(\"will\") or 0\n",
    "    opinion_count, news_count = 0, 0\n",
    "    num_negation, negation_suffix = 0, 0\n",
    "    num_finite_verbs = 0\n",
    "    digits = 0\n",
    "    num_past_tense, num_pres_tense = 0, 0\n",
    "    num_intjs = 0\n",
    "    \n",
    "    # Features with for loops\n",
    "    for w in counter.keys():\n",
    "        if w in vos:\n",
    "            num_vos += counter.get(w)\n",
    "        if w in first_person:\n",
    "            first_p += counter.get(w)\n",
    "            first_second_p += counter.get(w)\n",
    "        if w in second_person:\n",
    "            second_p += counter.get(w)\n",
    "            first_second_p += counter.get(w)\n",
    "        if w in third_person:\n",
    "            third_p += counter.get(w)\n",
    "        if w in modals:\n",
    "            num_modals += counter.get(w)\n",
    "        if w in casual:\n",
    "            num_casual += counter.get(w)\n",
    "        if w in temporal:\n",
    "            num_temporal += counter.get(w)\n",
    "        if w in contrastive:\n",
    "            num_contrastive += counter.get(w)\n",
    "        if w in expansive:\n",
    "            num_expansive += counter.get(w)\n",
    "        if any(char.isdigit() for char in w):\n",
    "            digits += 1\n",
    "        if w in opinion:\n",
    "            opinion_count += counter.get(w)\n",
    "        if w in news:\n",
    "            news_count += counter.get(w)\n",
    "        if \"n't\" in w:\n",
    "            negation_suffix += counter.get(w)\n",
    "        if w in negations:\n",
    "            num_negation += counter.get(w)\n",
    "    \n",
    "    for w in nlp(art_str):\n",
    "        if w.tag_ in finite_verb_tags:\n",
    "            num_finite_verbs += 1\n",
    "        if w.tag_ == \"VBZ\" or w.tag_ == \"VBP\":\n",
    "            num_pres_tense += 1\n",
    "        if w.tag_ == \"VBD\":\n",
    "            num_past_tense += 1\n",
    "    \n",
    "    # Other \n",
    "    if num_tokens == 0:\n",
    "        comlexity, interjection_freq = 0, 0\n",
    "    else: \n",
    "        complexity = num_finite_verbs / num_tokens\n",
    "        interjection_freq = num_intjs / num_tokens\n",
    "    if num_finite_verbs == 0:\n",
    "         past_freq, present_freq = 0, 0\n",
    "    else:\n",
    "        past_freq = num_past_tense / num_finite_verbs\n",
    "        present_freq = num_pres_tense / num_finite_verbs\n",
    "    \n",
    "    subjectivity, sentiment, adjectives, adj_ratio = get_sentiment(art_str, mpqa_dict)\n",
    "    questions, exclamations, semicolons, commas, periods = punctuation_count(art_str)\n",
    "    \n",
    "    # Compilation\n",
    "    ling_features = [sent_length, token_length, first_p, second_p, third_p, first_second_p,\n",
    "                    questions, exclamations, semicolons, commas, periods, \n",
    "                    num_casual, num_temporal, num_contrastive, num_expansive, \n",
    "                    digits, num_modals, num_vos, num_future, \n",
    "                    opinion_count, news_count,\n",
    "                    num_negation, negation_suffix, num_citations, avg_citation_len, num_words,\n",
    "                    subjectivity, sentiment, adjectives, adj_ratio,\n",
    "                    minmax_length, minmax_author, normalized_length, normalized_author_count,\n",
    "                    complexity, present_freq, past_freq, interjection_freq]\n",
    "    return ling_features"
   ]
  },
  {
   "cell_type": "code",
   "execution_count": 33,
   "id": "c4d12944",
   "metadata": {},
   "outputs": [
    {
     "name": "stdout",
     "output_type": "stream",
     "text": [
      "100 of 3535\n",
      "200 of 3535\n",
      "300 of 3535\n",
      "400 of 3535\n",
      "500 of 3535\n",
      "600 of 3535\n",
      "700 of 3535\n",
      "800 of 3535\n",
      "900 of 3535\n",
      "1000 of 3535\n",
      "1100 of 3535\n",
      "1200 of 3535\n",
      "1300 of 3535\n",
      "1400 of 3535\n",
      "1500 of 3535\n",
      "1600 of 3535\n",
      "1700 of 3535\n",
      "1800 of 3535\n",
      "1900 of 3535\n",
      "2000 of 3535\n",
      "2100 of 3535\n",
      "2200 of 3535\n",
      "2300 of 3535\n",
      "2400 of 3535\n",
      "2500 of 3535\n",
      "2600 of 3535\n",
      "2700 of 3535\n",
      "2800 of 3535\n",
      "2900 of 3535\n",
      "3000 of 3535\n",
      "3100 of 3535\n",
      "3200 of 3535\n",
      "3300 of 3535\n",
      "3400 of 3535\n",
      "3500 of 3535\n"
     ]
    }
   ],
   "source": [
    "# Preparing to create a dataframe where each record is a full text, and each column is a feature\n",
    "\n",
    "# Collecting the label for each record in an array\n",
    "y = []\n",
    "count = 1\n",
    "total = len(data)\n",
    "for article_label in data[\"Article Status Int\"]:\n",
    "    y.append(article_label)\n",
    "y = np.array(y)\n",
    "\n",
    "# Collecting the features for each record in an array\n",
    "X = []\n",
    "for index, record in data.iterrows():\n",
    "    article_features = get_all_featuresf(record, data)\n",
    "    X.append(article_features)\n",
    "    \n",
    "    #if count == 1701: # FIXME REMOVE THIS STOPPER STRAWBERRY\n",
    "    #    break\n",
    "    if count%100 == 0:\n",
    "        print(str(count) + \" of \" + str(total))\n",
    "    count += 1\n",
    "    \n",
    "X = np.array(X)\n",
    " "
   ]
  },
  {
   "cell_type": "code",
   "execution_count": 34,
   "id": "658ae1e7",
   "metadata": {},
   "outputs": [],
   "source": [
    "# Creating a reference for the features and target variables we are considering\n",
    "X_cols = ['sent_length', 'token_length', 'first_p', 'second_p', 'third_p', \"first/second_p\",\n",
    "                    'questions', 'exclamations', 'semicolons', 'commas', 'periods', \n",
    "                    'num_casual', 'num_temporal', 'num_contrastive', 'num_expansive', \n",
    "                    'digits', 'num_modals', 'num_vos', 'num_future', \n",
    "                    'opinion_count', 'news_count',\n",
    "                    'num_negation', 'negation_suffix', 'num_citations', 'avg_citation_len', 'num_words',\n",
    "                    'subjectivity', 'sentiment', 'adjectives', 'adj_ratio',\n",
    "                    'minmax_length', 'minmax_author', 'normalized_length', 'normalized_author_count', \n",
    "                    'complexity', 'present', 'past', 'interjections']\n",
    "X_cols_reduced = ['sent_length', 'token_length', 'first_p', \"first/second_p\",\n",
    "                    'questions', 'semicolons', 'commas', 'periods', \n",
    "                    'num_casual','num_contrastive',\n",
    "                    'digits', 'num_modals', 'num_vos',\n",
    "                    'avg_citation_len', 'num_words']\n",
    "y_col = ['art_status']"
   ]
  },
  {
   "cell_type": "code",
   "execution_count": 35,
   "id": "40b932bc",
   "metadata": {
    "scrolled": true
   },
   "outputs": [],
   "source": [
    "# Creating a dataframe where each record is a full text, and each column is a feature\n",
    "\n",
    "data_wfeats = pd.DataFrame(X, columns=X_cols)#.head(1701) # FIXME GET FULL DF STRAWBERRY\n",
    "data_wfeats = data_wfeats[X_cols] # FIXME RETURN TO FULL X COLS?\n",
    "data_wfeats['art_status'] = y#[:1701] # FIXME GET FULL DF STRAWBERRY\n",
    "#data_wfeats.head()"
   ]
  },
  {
   "cell_type": "code",
   "execution_count": 36,
   "id": "b792bd5e",
   "metadata": {
    "scrolled": true
   },
   "outputs": [
    {
     "data": {
      "text/plain": [
       "sent_length                False\n",
       "token_length               False\n",
       "first_p                    False\n",
       "second_p                   False\n",
       "third_p                    False\n",
       "first/second_p             False\n",
       "questions                  False\n",
       "exclamations               False\n",
       "semicolons                 False\n",
       "commas                     False\n",
       "periods                    False\n",
       "num_casual                 False\n",
       "num_temporal               False\n",
       "num_contrastive            False\n",
       "num_expansive              False\n",
       "digits                     False\n",
       "num_modals                 False\n",
       "num_vos                    False\n",
       "num_future                 False\n",
       "opinion_count              False\n",
       "news_count                 False\n",
       "num_negation               False\n",
       "negation_suffix            False\n",
       "num_citations              False\n",
       "avg_citation_len           False\n",
       "num_words                  False\n",
       "subjectivity               False\n",
       "sentiment                  False\n",
       "adjectives                 False\n",
       "adj_ratio                  False\n",
       "minmax_length              False\n",
       "minmax_author              False\n",
       "normalized_length          False\n",
       "normalized_author_count    False\n",
       "complexity                 False\n",
       "present                    False\n",
       "past                       False\n",
       "interjections              False\n",
       "art_status                 False\n",
       "dtype: bool"
      ]
     },
     "execution_count": 36,
     "metadata": {},
     "output_type": "execute_result"
    }
   ],
   "source": [
    "nan_values = data_wfeats.isna()\n",
    "nan_columns = nan_values.any()\n",
    "nan_columns"
   ]
  },
  {
   "cell_type": "code",
   "execution_count": 37,
   "id": "093d9300",
   "metadata": {},
   "outputs": [],
   "source": [
    "#null_cols = [\"minmax_author\",\"normalized_author_count\"]#,\"avg_citation_len\"]"
   ]
  },
  {
   "cell_type": "code",
   "execution_count": 38,
   "id": "a124adfa",
   "metadata": {},
   "outputs": [],
   "source": [
    "#data_wnonnafeats = data_wfeats.drop(columns=null_cols)"
   ]
  },
  {
   "cell_type": "code",
   "execution_count": 39,
   "id": "315c60a6",
   "metadata": {},
   "outputs": [],
   "source": [
    "#for null_col in null_cols:\n",
    "#    X_cols.remove(null_col)"
   ]
  },
  {
   "cell_type": "markdown",
   "id": "0d60b53b",
   "metadata": {},
   "source": [
    "### Some EDA"
   ]
  },
  {
   "cell_type": "code",
   "execution_count": 40,
   "id": "c7588212",
   "metadata": {
    "scrolled": true
   },
   "outputs": [
    {
     "data": {
      "image/png": "[encoded data removed]",
      "text/plain": [
       "<Figure size 864x576 with 1 Axes>"
      ]
     },
     "metadata": {
      "needs_background": "light"
     },
     "output_type": "display_data"
    }
   ],
   "source": [
    "plt.figure(figsize=[12,8]);\n",
    "sns.boxplot(x=\"art_status\", y=\"num_vos\", data=data_wfeats);\n",
    "plt.title(\"num_vos in News (0) vs Opinion (1) Articles\");"
   ]
  },
  {
   "cell_type": "code",
   "execution_count": 41,
   "id": "f6a7515a",
   "metadata": {},
   "outputs": [
    {
     "data": {
      "image/png": "[encoded data removed]",
      "text/plain": [
       "<Figure size 864x576 with 1 Axes>"
      ]
     },
     "metadata": {
      "needs_background": "light"
     },
     "output_type": "display_data"
    }
   ],
   "source": [
    "plt.figure(figsize=[12,8]);\n",
    "sns.boxplot(x=\"art_status\", y=\"first/second_p\", data=data_wfeats);\n",
    "plt.title(\"first_second_p in News (0) vs Opinion (1) Articles\");"
   ]
  },
  {
   "cell_type": "code",
   "execution_count": 42,
   "id": "42ac42d8",
   "metadata": {},
   "outputs": [
    {
     "data": {
      "text/html": [
       "<div>\n",
       "<style scoped>\n",
       "    .dataframe tbody tr th:only-of-type {\n",
       "        vertical-align: middle;\n",
       "    }\n",
       "\n",
       "    .dataframe tbody tr th {\n",
       "        vertical-align: top;\n",
       "    }\n",
       "\n",
       "    .dataframe thead th {\n",
       "        text-align: right;\n",
       "    }\n",
       "</style>\n",
       "<table border=\"1\" class=\"dataframe\">\n",
       "  <thead>\n",
       "    <tr style=\"text-align: right;\">\n",
       "      <th></th>\n",
       "      <th>sent_length</th>\n",
       "      <th>token_length</th>\n",
       "      <th>first_p</th>\n",
       "      <th>second_p</th>\n",
       "      <th>third_p</th>\n",
       "      <th>first/second_p</th>\n",
       "      <th>questions</th>\n",
       "      <th>exclamations</th>\n",
       "      <th>semicolons</th>\n",
       "      <th>commas</th>\n",
       "      <th>...</th>\n",
       "      <th>adj_ratio</th>\n",
       "      <th>minmax_length</th>\n",
       "      <th>minmax_author</th>\n",
       "      <th>normalized_length</th>\n",
       "      <th>normalized_author_count</th>\n",
       "      <th>complexity</th>\n",
       "      <th>present</th>\n",
       "      <th>past</th>\n",
       "      <th>interjections</th>\n",
       "      <th>art_status</th>\n",
       "    </tr>\n",
       "  </thead>\n",
       "  <tbody>\n",
       "    <tr>\n",
       "      <th>0</th>\n",
       "      <td>0.014900</td>\n",
       "      <td>0.201974</td>\n",
       "      <td>1.0</td>\n",
       "      <td>2.0</td>\n",
       "      <td>44.0</td>\n",
       "      <td>3.0</td>\n",
       "      <td>0.0</td>\n",
       "      <td>0.0</td>\n",
       "      <td>78.0</td>\n",
       "      <td>3.0</td>\n",
       "      <td>...</td>\n",
       "      <td>0.036988</td>\n",
       "      <td>0.142232</td>\n",
       "      <td>0.00</td>\n",
       "      <td>0.156989</td>\n",
       "      <td>0.2</td>\n",
       "      <td>0.018143</td>\n",
       "      <td>0.316176</td>\n",
       "      <td>0.602941</td>\n",
       "      <td>0.0</td>\n",
       "      <td>0</td>\n",
       "    </tr>\n",
       "    <tr>\n",
       "      <th>1</th>\n",
       "      <td>0.007716</td>\n",
       "      <td>0.190626</td>\n",
       "      <td>9.0</td>\n",
       "      <td>3.0</td>\n",
       "      <td>51.0</td>\n",
       "      <td>12.0</td>\n",
       "      <td>1.0</td>\n",
       "      <td>0.0</td>\n",
       "      <td>92.0</td>\n",
       "      <td>3.0</td>\n",
       "      <td>...</td>\n",
       "      <td>0.051511</td>\n",
       "      <td>0.105033</td>\n",
       "      <td>0.00</td>\n",
       "      <td>0.120430</td>\n",
       "      <td>0.2</td>\n",
       "      <td>0.017806</td>\n",
       "      <td>0.720588</td>\n",
       "      <td>0.125000</td>\n",
       "      <td>0.0</td>\n",
       "      <td>0</td>\n",
       "    </tr>\n",
       "    <tr>\n",
       "      <th>2</th>\n",
       "      <td>0.021549</td>\n",
       "      <td>0.200954</td>\n",
       "      <td>1.0</td>\n",
       "      <td>0.0</td>\n",
       "      <td>21.0</td>\n",
       "      <td>1.0</td>\n",
       "      <td>0.0</td>\n",
       "      <td>0.0</td>\n",
       "      <td>30.0</td>\n",
       "      <td>1.0</td>\n",
       "      <td>...</td>\n",
       "      <td>0.022152</td>\n",
       "      <td>0.155361</td>\n",
       "      <td>0.25</td>\n",
       "      <td>0.169892</td>\n",
       "      <td>0.4</td>\n",
       "      <td>0.015262</td>\n",
       "      <td>0.125000</td>\n",
       "      <td>0.770833</td>\n",
       "      <td>0.0</td>\n",
       "      <td>0</td>\n",
       "    </tr>\n",
       "    <tr>\n",
       "      <th>3</th>\n",
       "      <td>0.007221</td>\n",
       "      <td>0.187560</td>\n",
       "      <td>5.0</td>\n",
       "      <td>0.0</td>\n",
       "      <td>20.0</td>\n",
       "      <td>5.0</td>\n",
       "      <td>0.0</td>\n",
       "      <td>0.0</td>\n",
       "      <td>31.0</td>\n",
       "      <td>1.0</td>\n",
       "      <td>...</td>\n",
       "      <td>0.044643</td>\n",
       "      <td>0.155361</td>\n",
       "      <td>0.00</td>\n",
       "      <td>0.169892</td>\n",
       "      <td>0.2</td>\n",
       "      <td>0.013397</td>\n",
       "      <td>0.446429</td>\n",
       "      <td>0.178571</td>\n",
       "      <td>0.0</td>\n",
       "      <td>1</td>\n",
       "    </tr>\n",
       "    <tr>\n",
       "      <th>4</th>\n",
       "      <td>0.006043</td>\n",
       "      <td>0.187835</td>\n",
       "      <td>1.0</td>\n",
       "      <td>0.0</td>\n",
       "      <td>20.0</td>\n",
       "      <td>1.0</td>\n",
       "      <td>0.0</td>\n",
       "      <td>0.0</td>\n",
       "      <td>50.0</td>\n",
       "      <td>0.0</td>\n",
       "      <td>...</td>\n",
       "      <td>0.025397</td>\n",
       "      <td>0.113786</td>\n",
       "      <td>0.25</td>\n",
       "      <td>0.129032</td>\n",
       "      <td>0.4</td>\n",
       "      <td>0.016696</td>\n",
       "      <td>0.523810</td>\n",
       "      <td>0.321429</td>\n",
       "      <td>0.0</td>\n",
       "      <td>0</td>\n",
       "    </tr>\n",
       "    <tr>\n",
       "      <th>...</th>\n",
       "      <td>...</td>\n",
       "      <td>...</td>\n",
       "      <td>...</td>\n",
       "      <td>...</td>\n",
       "      <td>...</td>\n",
       "      <td>...</td>\n",
       "      <td>...</td>\n",
       "      <td>...</td>\n",
       "      <td>...</td>\n",
       "      <td>...</td>\n",
       "      <td>...</td>\n",
       "      <td>...</td>\n",
       "      <td>...</td>\n",
       "      <td>...</td>\n",
       "      <td>...</td>\n",
       "      <td>...</td>\n",
       "      <td>...</td>\n",
       "      <td>...</td>\n",
       "      <td>...</td>\n",
       "      <td>...</td>\n",
       "      <td>...</td>\n",
       "    </tr>\n",
       "    <tr>\n",
       "      <th>3530</th>\n",
       "      <td>0.008160</td>\n",
       "      <td>0.197435</td>\n",
       "      <td>4.0</td>\n",
       "      <td>0.0</td>\n",
       "      <td>22.0</td>\n",
       "      <td>4.0</td>\n",
       "      <td>1.0</td>\n",
       "      <td>0.0</td>\n",
       "      <td>31.0</td>\n",
       "      <td>0.0</td>\n",
       "      <td>...</td>\n",
       "      <td>0.023004</td>\n",
       "      <td>0.221007</td>\n",
       "      <td>0.00</td>\n",
       "      <td>0.234409</td>\n",
       "      <td>0.0</td>\n",
       "      <td>0.022175</td>\n",
       "      <td>0.457831</td>\n",
       "      <td>0.325301</td>\n",
       "      <td>0.0</td>\n",
       "      <td>0</td>\n",
       "    </tr>\n",
       "    <tr>\n",
       "      <th>3531</th>\n",
       "      <td>0.007276</td>\n",
       "      <td>0.210563</td>\n",
       "      <td>8.0</td>\n",
       "      <td>4.0</td>\n",
       "      <td>25.0</td>\n",
       "      <td>12.0</td>\n",
       "      <td>0.0</td>\n",
       "      <td>1.0</td>\n",
       "      <td>33.0</td>\n",
       "      <td>0.0</td>\n",
       "      <td>...</td>\n",
       "      <td>0.039344</td>\n",
       "      <td>0.199125</td>\n",
       "      <td>0.00</td>\n",
       "      <td>0.212903</td>\n",
       "      <td>0.0</td>\n",
       "      <td>0.023127</td>\n",
       "      <td>0.552239</td>\n",
       "      <td>0.223881</td>\n",
       "      <td>0.0</td>\n",
       "      <td>0</td>\n",
       "    </tr>\n",
       "    <tr>\n",
       "      <th>3532</th>\n",
       "      <td>0.011149</td>\n",
       "      <td>0.197375</td>\n",
       "      <td>3.0</td>\n",
       "      <td>4.0</td>\n",
       "      <td>33.0</td>\n",
       "      <td>7.0</td>\n",
       "      <td>4.0</td>\n",
       "      <td>0.0</td>\n",
       "      <td>73.0</td>\n",
       "      <td>0.0</td>\n",
       "      <td>...</td>\n",
       "      <td>0.040245</td>\n",
       "      <td>0.172867</td>\n",
       "      <td>0.25</td>\n",
       "      <td>0.187097</td>\n",
       "      <td>0.4</td>\n",
       "      <td>0.022449</td>\n",
       "      <td>0.292308</td>\n",
       "      <td>0.607692</td>\n",
       "      <td>0.0</td>\n",
       "      <td>0</td>\n",
       "    </tr>\n",
       "    <tr>\n",
       "      <th>3533</th>\n",
       "      <td>0.009121</td>\n",
       "      <td>0.190674</td>\n",
       "      <td>0.0</td>\n",
       "      <td>0.0</td>\n",
       "      <td>0.0</td>\n",
       "      <td>0.0</td>\n",
       "      <td>0.0</td>\n",
       "      <td>0.0</td>\n",
       "      <td>28.0</td>\n",
       "      <td>1.0</td>\n",
       "      <td>...</td>\n",
       "      <td>0.000000</td>\n",
       "      <td>0.153173</td>\n",
       "      <td>0.00</td>\n",
       "      <td>0.167742</td>\n",
       "      <td>0.2</td>\n",
       "      <td>0.008057</td>\n",
       "      <td>0.939394</td>\n",
       "      <td>0.060606</td>\n",
       "      <td>0.0</td>\n",
       "      <td>0</td>\n",
       "    </tr>\n",
       "    <tr>\n",
       "      <th>3534</th>\n",
       "      <td>0.009782</td>\n",
       "      <td>0.186315</td>\n",
       "      <td>1.0</td>\n",
       "      <td>2.0</td>\n",
       "      <td>14.0</td>\n",
       "      <td>3.0</td>\n",
       "      <td>1.0</td>\n",
       "      <td>0.0</td>\n",
       "      <td>26.0</td>\n",
       "      <td>0.0</td>\n",
       "      <td>...</td>\n",
       "      <td>0.021907</td>\n",
       "      <td>0.032823</td>\n",
       "      <td>0.00</td>\n",
       "      <td>0.049462</td>\n",
       "      <td>0.0</td>\n",
       "      <td>0.013926</td>\n",
       "      <td>0.586207</td>\n",
       "      <td>0.327586</td>\n",
       "      <td>0.0</td>\n",
       "      <td>0</td>\n",
       "    </tr>\n",
       "  </tbody>\n",
       "</table>\n",
       "<p>3535 rows × 39 columns</p>\n",
       "</div>"
      ],
      "text/plain": [
       "      sent_length  token_length  first_p  second_p  third_p  first/second_p  \\\n",
       "0        0.014900      0.201974      1.0       2.0     44.0             3.0   \n",
       "1        0.007716      0.190626      9.0       3.0     51.0            12.0   \n",
       "2        0.021549      0.200954      1.0       0.0     21.0             1.0   \n",
       "3        0.007221      0.187560      5.0       0.0     20.0             5.0   \n",
       "4        0.006043      0.187835      1.0       0.0     20.0             1.0   \n",
       "...           ...           ...      ...       ...      ...             ...   \n",
       "3530     0.008160      0.197435      4.0       0.0     22.0             4.0   \n",
       "3531     0.007276      0.210563      8.0       4.0     25.0            12.0   \n",
       "3532     0.011149      0.197375      3.0       4.0     33.0             7.0   \n",
       "3533     0.009121      0.190674      0.0       0.0      0.0             0.0   \n",
       "3534     0.009782      0.186315      1.0       2.0     14.0             3.0   \n",
       "\n",
       "      questions  exclamations  semicolons  commas  ...  adj_ratio  \\\n",
       "0           0.0           0.0        78.0     3.0  ...   0.036988   \n",
       "1           1.0           0.0        92.0     3.0  ...   0.051511   \n",
       "2           0.0           0.0        30.0     1.0  ...   0.022152   \n",
       "3           0.0           0.0        31.0     1.0  ...   0.044643   \n",
       "4           0.0           0.0        50.0     0.0  ...   0.025397   \n",
       "...         ...           ...         ...     ...  ...        ...   \n",
       "3530        1.0           0.0        31.0     0.0  ...   0.023004   \n",
       "3531        0.0           1.0        33.0     0.0  ...   0.039344   \n",
       "3532        4.0           0.0        73.0     0.0  ...   0.040245   \n",
       "3533        0.0           0.0        28.0     1.0  ...   0.000000   \n",
       "3534        1.0           0.0        26.0     0.0  ...   0.021907   \n",
       "\n",
       "      minmax_length  minmax_author  normalized_length  \\\n",
       "0          0.142232           0.00           0.156989   \n",
       "1          0.105033           0.00           0.120430   \n",
       "2          0.155361           0.25           0.169892   \n",
       "3          0.155361           0.00           0.169892   \n",
       "4          0.113786           0.25           0.129032   \n",
       "...             ...            ...                ...   \n",
       "3530       0.221007           0.00           0.234409   \n",
       "3531       0.199125           0.00           0.212903   \n",
       "3532       0.172867           0.25           0.187097   \n",
       "3533       0.153173           0.00           0.167742   \n",
       "3534       0.032823           0.00           0.049462   \n",
       "\n",
       "      normalized_author_count  complexity   present      past  interjections  \\\n",
       "0                         0.2    0.018143  0.316176  0.602941            0.0   \n",
       "1                         0.2    0.017806  0.720588  0.125000            0.0   \n",
       "2                         0.4    0.015262  0.125000  0.770833            0.0   \n",
       "3                         0.2    0.013397  0.446429  0.178571            0.0   \n",
       "4                         0.4    0.016696  0.523810  0.321429            0.0   \n",
       "...                       ...         ...       ...       ...            ...   \n",
       "3530                      0.0    0.022175  0.457831  0.325301            0.0   \n",
       "3531                      0.0    0.023127  0.552239  0.223881            0.0   \n",
       "3532                      0.4    0.022449  0.292308  0.607692            0.0   \n",
       "3533                      0.2    0.008057  0.939394  0.060606            0.0   \n",
       "3534                      0.0    0.013926  0.586207  0.327586            0.0   \n",
       "\n",
       "      art_status  \n",
       "0              0  \n",
       "1              0  \n",
       "2              0  \n",
       "3              1  \n",
       "4              0  \n",
       "...          ...  \n",
       "3530           0  \n",
       "3531           0  \n",
       "3532           0  \n",
       "3533           0  \n",
       "3534           0  \n",
       "\n",
       "[3535 rows x 39 columns]"
      ]
     },
     "execution_count": 42,
     "metadata": {},
     "output_type": "execute_result"
    }
   ],
   "source": [
    "# Dropping records from this dataframe where feature values are missing\n",
    "data_wnonnafeats = data_wfeats.dropna()\n",
    "data_wnonnafeats\n",
    "\n",
    "# FIXME Check to see how many records we lost"
   ]
  },
  {
   "cell_type": "code",
   "execution_count": 43,
   "id": "a3e2c4cd",
   "metadata": {},
   "outputs": [],
   "source": [
    "from sklearn.model_selection import train_test_split\n",
    "\n",
    "# Train test split for articles in our dataset\n",
    "train, test = train_test_split(data_wnonnafeats, test_size=0.30, random_state=42)"
   ]
  },
  {
   "cell_type": "code",
   "execution_count": 44,
   "id": "5718e7b1",
   "metadata": {},
   "outputs": [],
   "source": [
    "# Defining the data matrix and label vector for train and test data sets\n",
    "X_train = train[X_cols].to_numpy() # FIXME RETURN TO FULL X COLS?\n",
    "y_train = train[y_col].to_numpy().flatten()\n",
    "\n",
    "X_test = test[X_cols].to_numpy()  # FIXME RETURN TO FULL X COLS?\n",
    "y_test = test[y_col].to_numpy().flatten()"
   ]
  },
  {
   "cell_type": "markdown",
   "id": "36ee8022",
   "metadata": {},
   "source": [
    "## Assessing initial model quality"
   ]
  },
  {
   "cell_type": "code",
   "execution_count": null,
   "id": "144b02d0",
   "metadata": {},
   "outputs": [],
   "source": [
    "# Fitting a support vector classifier on X_train and y_train\n",
    "svc = svm.SVC(C=0.6, kernel='linear') #FIXME C is 1 by default\n",
    "svc.fit(X_train, y_train)"
   ]
  },
  {
   "cell_type": "code",
   "execution_count": 63,
   "id": "39bd0c31",
   "metadata": {},
   "outputs": [
    {
     "ename": "AttributeError",
     "evalue": "'SVC' object has no attribute 'shape_fit_'",
     "output_type": "error",
     "traceback": [
      "\u001b[0;31m---------------------------------------------------------------------------\u001b[0m",
      "\u001b[0;31mAttributeError\u001b[0m                            Traceback (most recent call last)",
      "\u001b[0;32m/tmp/ipykernel_24/2510814968.py\u001b[0m in \u001b[0;36m<module>\u001b[0;34m\u001b[0m\n\u001b[1;32m      2\u001b[0m \u001b[0;34m\u001b[0m\u001b[0m\n\u001b[1;32m      3\u001b[0m \u001b[0;31m# Evaluating SVM performance on test data\u001b[0m\u001b[0;34m\u001b[0m\u001b[0;34m\u001b[0m\u001b[0m\n\u001b[0;32m----> 4\u001b[0;31m \u001b[0my_pred\u001b[0m \u001b[0;34m=\u001b[0m \u001b[0msvc\u001b[0m\u001b[0;34m.\u001b[0m\u001b[0mpredict\u001b[0m\u001b[0;34m(\u001b[0m\u001b[0mX_test\u001b[0m\u001b[0;34m)\u001b[0m\u001b[0;34m\u001b[0m\u001b[0;34m\u001b[0m\u001b[0m\n\u001b[0m\u001b[1;32m      5\u001b[0m \u001b[0;31m#y_pred = (svc.predict_proba(X_test)[:,1] >= 0.3).astype(int)\u001b[0m\u001b[0;34m\u001b[0m\u001b[0;34m\u001b[0m\u001b[0m\n\u001b[1;32m      6\u001b[0m \u001b[0my_true\u001b[0m \u001b[0;34m=\u001b[0m \u001b[0my_test\u001b[0m\u001b[0;34m\u001b[0m\u001b[0;34m\u001b[0m\u001b[0m\n",
      "\u001b[0;32m/opt/conda/lib/python3.9/site-packages/sklearn/svm/_base.py\u001b[0m in \u001b[0;36mpredict\u001b[0;34m(self, X)\u001b[0m\n\u001b[1;32m    622\u001b[0m             \u001b[0my\u001b[0m \u001b[0;34m=\u001b[0m \u001b[0mnp\u001b[0m\u001b[0;34m.\u001b[0m\u001b[0margmax\u001b[0m\u001b[0;34m(\u001b[0m\u001b[0mself\u001b[0m\u001b[0;34m.\u001b[0m\u001b[0mdecision_function\u001b[0m\u001b[0;34m(\u001b[0m\u001b[0mX\u001b[0m\u001b[0;34m)\u001b[0m\u001b[0;34m,\u001b[0m \u001b[0maxis\u001b[0m\u001b[0;34m=\u001b[0m\u001b[0;36m1\u001b[0m\u001b[0;34m)\u001b[0m\u001b[0;34m\u001b[0m\u001b[0;34m\u001b[0m\u001b[0m\n\u001b[1;32m    623\u001b[0m         \u001b[0;32melse\u001b[0m\u001b[0;34m:\u001b[0m\u001b[0;34m\u001b[0m\u001b[0;34m\u001b[0m\u001b[0m\n\u001b[0;32m--> 624\u001b[0;31m             \u001b[0my\u001b[0m \u001b[0;34m=\u001b[0m \u001b[0msuper\u001b[0m\u001b[0;34m(\u001b[0m\u001b[0;34m)\u001b[0m\u001b[0;34m.\u001b[0m\u001b[0mpredict\u001b[0m\u001b[0;34m(\u001b[0m\u001b[0mX\u001b[0m\u001b[0;34m)\u001b[0m\u001b[0;34m\u001b[0m\u001b[0;34m\u001b[0m\u001b[0m\n\u001b[0m\u001b[1;32m    625\u001b[0m         \u001b[0;32mreturn\u001b[0m \u001b[0mself\u001b[0m\u001b[0;34m.\u001b[0m\u001b[0mclasses_\u001b[0m\u001b[0;34m.\u001b[0m\u001b[0mtake\u001b[0m\u001b[0;34m(\u001b[0m\u001b[0mnp\u001b[0m\u001b[0;34m.\u001b[0m\u001b[0masarray\u001b[0m\u001b[0;34m(\u001b[0m\u001b[0my\u001b[0m\u001b[0;34m,\u001b[0m \u001b[0mdtype\u001b[0m\u001b[0;34m=\u001b[0m\u001b[0mnp\u001b[0m\u001b[0;34m.\u001b[0m\u001b[0mintp\u001b[0m\u001b[0;34m)\u001b[0m\u001b[0;34m)\u001b[0m\u001b[0;34m\u001b[0m\u001b[0;34m\u001b[0m\u001b[0m\n\u001b[1;32m    626\u001b[0m \u001b[0;34m\u001b[0m\u001b[0m\n",
      "\u001b[0;32m/opt/conda/lib/python3.9/site-packages/sklearn/svm/_base.py\u001b[0m in \u001b[0;36mpredict\u001b[0;34m(self, X)\u001b[0m\n\u001b[1;32m    340\u001b[0m         \u001b[0my_pred\u001b[0m \u001b[0;34m:\u001b[0m \u001b[0mndarray\u001b[0m \u001b[0mof\u001b[0m \u001b[0mshape\u001b[0m \u001b[0;34m(\u001b[0m\u001b[0mn_samples\u001b[0m\u001b[0;34m,\u001b[0m\u001b[0;34m)\u001b[0m\u001b[0;34m\u001b[0m\u001b[0;34m\u001b[0m\u001b[0m\n\u001b[1;32m    341\u001b[0m         \"\"\"\n\u001b[0;32m--> 342\u001b[0;31m         \u001b[0mX\u001b[0m \u001b[0;34m=\u001b[0m \u001b[0mself\u001b[0m\u001b[0;34m.\u001b[0m\u001b[0m_validate_for_predict\u001b[0m\u001b[0;34m(\u001b[0m\u001b[0mX\u001b[0m\u001b[0;34m)\u001b[0m\u001b[0;34m\u001b[0m\u001b[0;34m\u001b[0m\u001b[0m\n\u001b[0m\u001b[1;32m    343\u001b[0m         \u001b[0mpredict\u001b[0m \u001b[0;34m=\u001b[0m \u001b[0mself\u001b[0m\u001b[0;34m.\u001b[0m\u001b[0m_sparse_predict\u001b[0m \u001b[0;32mif\u001b[0m \u001b[0mself\u001b[0m\u001b[0;34m.\u001b[0m\u001b[0m_sparse\u001b[0m \u001b[0;32melse\u001b[0m \u001b[0mself\u001b[0m\u001b[0;34m.\u001b[0m\u001b[0m_dense_predict\u001b[0m\u001b[0;34m\u001b[0m\u001b[0;34m\u001b[0m\u001b[0m\n\u001b[1;32m    344\u001b[0m         \u001b[0;32mreturn\u001b[0m \u001b[0mpredict\u001b[0m\u001b[0;34m(\u001b[0m\u001b[0mX\u001b[0m\u001b[0;34m)\u001b[0m\u001b[0;34m\u001b[0m\u001b[0;34m\u001b[0m\u001b[0m\n",
      "\u001b[0;32m/opt/conda/lib/python3.9/site-packages/sklearn/svm/_base.py\u001b[0m in \u001b[0;36m_validate_for_predict\u001b[0;34m(self, X)\u001b[0m\n\u001b[1;32m    490\u001b[0m                                  \u001b[0;34m\"the number of samples at training time\"\u001b[0m \u001b[0;34m%\u001b[0m\u001b[0;34m\u001b[0m\u001b[0;34m\u001b[0m\u001b[0m\n\u001b[1;32m    491\u001b[0m                                  (X.shape[1], self.shape_fit_[0]))\n\u001b[0;32m--> 492\u001b[0;31m         \u001b[0;32melif\u001b[0m \u001b[0;32mnot\u001b[0m \u001b[0mcallable\u001b[0m\u001b[0;34m(\u001b[0m\u001b[0mself\u001b[0m\u001b[0;34m.\u001b[0m\u001b[0mkernel\u001b[0m\u001b[0;34m)\u001b[0m \u001b[0;32mand\u001b[0m \u001b[0mX\u001b[0m\u001b[0;34m.\u001b[0m\u001b[0mshape\u001b[0m\u001b[0;34m[\u001b[0m\u001b[0;36m1\u001b[0m\u001b[0;34m]\u001b[0m \u001b[0;34m!=\u001b[0m \u001b[0mself\u001b[0m\u001b[0;34m.\u001b[0m\u001b[0mshape_fit_\u001b[0m\u001b[0;34m[\u001b[0m\u001b[0;36m1\u001b[0m\u001b[0;34m]\u001b[0m\u001b[0;34m:\u001b[0m\u001b[0;34m\u001b[0m\u001b[0;34m\u001b[0m\u001b[0m\n\u001b[0m\u001b[1;32m    493\u001b[0m             raise ValueError(\"X.shape[1] = %d should be equal to %d, \"\n\u001b[1;32m    494\u001b[0m                              \u001b[0;34m\"the number of features at training time\"\u001b[0m \u001b[0;34m%\u001b[0m\u001b[0;34m\u001b[0m\u001b[0;34m\u001b[0m\u001b[0m\n",
      "\u001b[0;31mAttributeError\u001b[0m: 'SVC' object has no attribute 'shape_fit_'"
     ]
    }
   ],
   "source": [
    "from sklearn.metrics import f1_score\n",
    "\n",
    "# Evaluating SVM performance on test data\n",
    "y_pred = svc.predict(X_test)\n",
    "#y_pred = (svc.predict_proba(X_test)[:,1] >= 0.3).astype(int)\n",
    "y_true = y_test\n",
    "\n",
    "# Initial f1 score\n",
    "f1 = f1_score(y_true, y_pred, average='macro')\n",
    "print(\"F1 Score with Linear Kernel: \" + str(f1))"
   ]
  },
  {
   "cell_type": "code",
   "execution_count": 47,
   "id": "892233a1",
   "metadata": {},
   "outputs": [
    {
     "name": "stdout",
     "output_type": "stream",
     "text": [
      "Recall with Linear Kernel: 0.42528735632183906\n"
     ]
    }
   ],
   "source": [
    "# We prefer FP to FN, which means we prioritize high recall in our model\n",
    "recall = recall_score(y_true, y_pred)\n",
    "print(\"Recall with Linear Kernel: \" + str(recall))"
   ]
  },
  {
   "cell_type": "code",
   "execution_count": 49,
   "id": "71297049",
   "metadata": {},
   "outputs": [
    {
     "name": "stdout",
     "output_type": "stream",
     "text": [
      "Specificity with Linear Kernel: 0.9706877113866967\n"
     ]
    }
   ],
   "source": [
    "# Obtaining specificity, which is more related to false positives. If it comes down to it,\n",
    "# We would prefer a higher recall to a higher sensitivity since that minimizes false negatives\n",
    "tn, fp, fn, tp = confusion_matrix(y_true, y_pred).ravel()\n",
    "specificity = tn / (tn + fp)\n",
    "print(\"Specificity with Linear Kernel: \" + str(specificity))"
   ]
  },
  {
   "cell_type": "markdown",
   "id": "d708ad32",
   "metadata": {},
   "source": [
    "# Visualizing Model Quality"
   ]
  },
  {
   "cell_type": "code",
   "execution_count": 50,
   "id": "1b5e7d04",
   "metadata": {
    "scrolled": true
   },
   "outputs": [
    {
     "data": {
      "text/plain": [
       "<sklearn.metrics._plot.confusion_matrix.ConfusionMatrixDisplay at 0x7f13dcfdf970>"
      ]
     },
     "execution_count": 50,
     "metadata": {},
     "output_type": "execute_result"
    },
    {
     "data": {
      "image/png": "[encoded data removed]",
      "text/plain": [
       "<Figure size 432x288 with 2 Axes>"
      ]
     },
     "metadata": {
      "needs_background": "light"
     },
     "output_type": "display_data"
    }
   ],
   "source": [
    "# Visualizing the confusion matrix:\n",
    "plot_confusion_matrix(svc, X_test, y_test) "
   ]
  },
  {
   "cell_type": "code",
   "execution_count": 60,
   "id": "bc92685d",
   "metadata": {
    "scrolled": false
   },
   "outputs": [
    {
     "data": {
      "image/png": "[encoded data removed]",
      "text/plain": [
       "<Figure size 864x576 with 1 Axes>"
      ]
     },
     "metadata": {
      "needs_background": "light"
     },
     "output_type": "display_data"
    }
   ],
   "source": [
    "coefs = svc.coef_.flatten()\n",
    "plt.figure(figsize=[12,8]);\n",
    "plt.bar(x=X_cols,height=coefs);\n",
    "plt.xticks(rotation='90');\n",
    "plt.ylabel(\"Weight Coefficient\");\n",
    "plt.xlabel(\"Feature\");\n",
    "plt.title(\"SVC Coefficient Values for Each Feature\");"
   ]
  },
  {
   "cell_type": "markdown",
   "id": "a4d9456f",
   "metadata": {},
   "source": [
    "# NOTE: "
   ]
  },
  {
   "cell_type": "markdown",
   "id": "3c84a06c",
   "metadata": {},
   "source": [
    "### Sections below were early tests for heuristic viability and as such may be imcompatible with changes to the code made above. They are left purely for documentation."
   ]
  },
  {
   "cell_type": "markdown",
   "id": "815d09b0",
   "metadata": {},
   "source": [
    "# SVM with Heuristic Filter"
   ]
  },
  {
   "cell_type": "code",
   "execution_count": null,
   "id": "0544da2d",
   "metadata": {},
   "outputs": [],
   "source": [
    "class heurSVM:\n",
    "\n",
    "    def __init__(self):\n",
    "        self.heuristics = {}\n",
    "        self.svc = svm.SVC(kernel='linear')\n",
    "    \n",
    "    def fit(self, heuristics, X, y):\n",
    "        self.heuristics = heuristics\n",
    "        self.svc.fit(X, y)\n",
    "        \n",
    "    def predict(self, X):\n",
    "        def classify(text):\n",
    "            for heuristic in self.heuristics.keys():\n",
    "                if heuristic in text:\n",
    "                    return self.heuristics[heuristic]\n",
    "                else:\n",
    "                    return self.svc.predict(X)\n",
    "        return classify(X)"
   ]
  },
  {
   "cell_type": "code",
   "execution_count": null,
   "id": "312fab17",
   "metadata": {},
   "outputs": [],
   "source": [
    "hSVM = heurSVM()\n",
    "heuristics = {\"reporting by\": \"News\", \"editing by\": \"News\", \"contributed to this report\": \"News\"}\n",
    "hSVM.fit(heuristics, X_train, y_train)\n",
    "y_pred = hSVM.predict(X_test)\n",
    "y_true = y_test\n",
    "print(\"F1 Score with rules-based filter: \" + str(f1_score(y_true, y_pred, average='macro')))"
   ]
  },
  {
   "cell_type": "markdown",
   "id": "3599c705",
   "metadata": {},
   "source": [
    "# SVM with heuristics as features"
   ]
  },
  {
   "cell_type": "code",
   "execution_count": null,
   "id": "540f6dce",
   "metadata": {},
   "outputs": [],
   "source": [
    "# Old feature extractiono function but with indicator variables for presence of heuristic phrases\n",
    "def get_all_features(record, df):\n",
    "    art_str = record[\"Full Text\"]\n",
    "    counter = collections.Counter(art_str.lower().split())\n",
    "    num_words = sum([counter.get(w) for w in counter.keys()])\n",
    "    \n",
    "    has_reportingby = int(\"reporting by\" in art_str)\n",
    "    has_editingby = int(\"editing by\" in art_str)\n",
    "    has_contributedto = int(\"contributed to this report\" in art_str)\n",
    "    headline_length = record[\"headline_length_feature\"]\n",
    "    author_count = record[\"author_count_feature\"]\n",
    "    minmax_length = record[\"minmax_length\"]\n",
    "    minmax_author = record[\"minmax_author\"]\n",
    "    normalized_length = record[\"normalized_length\"]\n",
    "    normalized_author_count = record[\"normalized_author_count\"]\n",
    "    \n",
    "    subjectivity, sentiment, adjectives, adj_ratio = get_sentiment(art_str, mpqa_dict)\n",
    "    questions, exclamations, semicolons, commas, periods = punctuation_count(art_str)\n",
    "    first_p, second_p, third_p = 0, 0, 0\n",
    "    num_modals, num_vos = 0, 0\n",
    "    num_casual, num_temporal, num_contrastive, num_expansive = 0, 0, 0, 0\n",
    "    digits = 0\n",
    "    num_future = counter.get(\"will\")\n",
    "    opinion_count, news_count = 0, 0\n",
    "    num_negation, negation_suffix = 0, 0\n",
    "    quotes = re.findall(r'\"(.*?)\"', art_str)\n",
    "    within_quotes = collections.Counter(\" \".join(quotes).lower().split())\n",
    "    num_citations = len(quotes)\n",
    "    avg_citation_len = np.average([len(q) for q in quotes])\n",
    "    sent_length = sent_len(art_str)\n",
    "    token_length = token_len(art_str)\n",
    "    \n",
    "    for w in counter.keys():\n",
    "        if w in vos:\n",
    "            num_vos += counter.get(w)\n",
    "        elif w in first_person:\n",
    "            first_p += counter.get(w)\n",
    "        elif w in second_person:\n",
    "            second_p += counter.get(w)\n",
    "        elif w in third_person:\n",
    "            third_p += counter.get(w)\n",
    "        elif w in modals:\n",
    "            num_modals += counter.get(w)\n",
    "        elif w in casual:\n",
    "            num_casual += counter.get(w)\n",
    "        elif w in temporal:\n",
    "            num_temporal += counter.get(w)\n",
    "        elif w in contrastive:\n",
    "            num_contrastive += counter.get(w)\n",
    "        elif w in expansive:\n",
    "            num_expansive += counter.get(w)\n",
    "        elif any(char.isdigit() for char in w):\n",
    "            digits += 1\n",
    "        elif w in opinion:\n",
    "            opinion_count += counter.get(w)\n",
    "        elif w in news:\n",
    "            news_count += counter.get(w)\n",
    "        elif \"n't\" in w:\n",
    "            negation_suffix += counter.get(w)\n",
    "        elif w in negations:\n",
    "            num_negation += counter.get(w)\n",
    "            \n",
    "    ling_features = [sent_length, token_length, first_p, second_p, third_p, \n",
    "                    questions, exclamations, semicolons, commas, periods, \n",
    "                    num_casual, num_temporal, num_contrastive, num_expansive, \n",
    "                    digits, num_modals, num_vos, num_future, \n",
    "                    opinion_count, news_count,\n",
    "                    num_negation, negation_suffix, num_citations, avg_citation_len, num_words,\n",
    "                    subjectivity, sentiment, adjectives, adj_ratio,\n",
    "                    headline_length, author_count, minmax_length, minmax_author, normalized_length,\n",
    "                    normalized_author_count,\n",
    "                    has_reportingby, has_editingby, has_contributedto]\n",
    "    \n",
    "    return ling_features"
   ]
  },
  {
   "cell_type": "code",
   "execution_count": null,
   "id": "f778c268",
   "metadata": {},
   "outputs": [],
   "source": [
    "# Preparing to create a dataframe where each record is a full text, and each column is a feature\n",
    "\n",
    "# Collecting the label for each record in an array\n",
    "y = []\n",
    "for article_label in data[\"Article Status\"]:\n",
    "    y.append(article_label)\n",
    "y = np.array(y)\n",
    "\n",
    "# Collecting the features for each record in an array\n",
    "X = []\n",
    "for index, record in data.iterrows():\n",
    "    article_features = get_all_features(record, data)\n",
    "    X.append(article_features)\n",
    "X = np.array(X)"
   ]
  },
  {
   "cell_type": "code",
   "execution_count": null,
   "id": "0964c742",
   "metadata": {},
   "outputs": [],
   "source": [
    "# Creating a reference for the features and target variables we are considering\n",
    "X_cols = ['sent_length', 'token_length', 'first_p', 'second_p', 'third_p', \n",
    "                    'questions', 'exclamations', 'semicolons', 'commas', 'periods', \n",
    "                    'num_casual', 'num_temporal', 'num_contrastive', 'num_expansive', \n",
    "                    'digits', 'num_modals', 'num_vos', 'num_future', \n",
    "                    'opinion_count', 'news_count',\n",
    "                    'num_negation', 'negation_suffix', 'num_citations', 'avg_citation_len', 'num_words',\n",
    "                    'subjectivity', 'sentiment', 'adjectives', 'adj_ratio',\n",
    "                    'headline_length', 'author_count', 'minmax_length', 'minmax_author', 'normalized_length',\n",
    "                    'normalized_author_count',\n",
    "                    'has_reportingby', 'has_editingby', 'has_contributedto']\n",
    "y_col = ['art_status']"
   ]
  },
  {
   "cell_type": "code",
   "execution_count": null,
   "id": "6125737d",
   "metadata": {},
   "outputs": [],
   "source": [
    "# Fitting a support vector classifier on X_train and y_train\n",
    "svc = svm.SVC(kernel='linear')\n",
    "svc.fit(X_train, y_train)"
   ]
  },
  {
   "cell_type": "code",
   "execution_count": null,
   "id": "cc794b80",
   "metadata": {},
   "outputs": [],
   "source": [
    "# Evaluating SVM performance on test data\n",
    "y_pred = svc.predict(X_test)\n",
    "y_true = y_test\n",
    "\n",
    "# Initial f1 score\n",
    "print(\"F1 Score with heuristics as features: \" + str(f1_score(y_true, y_pred, average='macro')))"
   ]
  },
  {
   "cell_type": "code",
   "execution_count": 1,
   "id": "85a266f2",
   "metadata": {},
   "outputs": [
    {
     "ename": "NameError",
     "evalue": "name 'data' is not defined",
     "output_type": "error",
     "traceback": [
      "\u001b[0;31m---------------------------------------------------------------------------\u001b[0m",
      "\u001b[0;31mNameError\u001b[0m                                 Traceback (most recent call last)",
      "\u001b[0;32m/tmp/ipykernel_167/391604064.py\u001b[0m in \u001b[0;36m<module>\u001b[0;34m\u001b[0m\n\u001b[0;32m----> 1\u001b[0;31m \u001b[0mdata\u001b[0m\u001b[0;34m\u001b[0m\u001b[0;34m\u001b[0m\u001b[0m\n\u001b[0m",
      "\u001b[0;31mNameError\u001b[0m: name 'data' is not defined"
     ]
    }
   ],
   "source": [
    "data"
   ]
  },
  {
   "cell_type": "code",
   "execution_count": null,
   "id": "cccfc34e",
   "metadata": {},
   "outputs": [],
   "source": []
  }
 ],
 "metadata": {
  "kernelspec": {
   "display_name": "Python 3 (ipykernel)",
   "language": "python",
   "name": "python3"
  },
  "language_info": {
   "codemirror_mode": {
    "name": "ipython",
    "version": 3
   },
   "file_extension": ".py",
   "mimetype": "text/x-python",
   "name": "python",
   "nbconvert_exporter": "python",
   "pygments_lexer": "ipython3",
   "version": "3.9.7"
  }
 },
 "nbformat": 4,
 "nbformat_minor": 5
}
